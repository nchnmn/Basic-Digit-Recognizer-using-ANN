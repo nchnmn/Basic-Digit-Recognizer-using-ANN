{
 "cells": [
  {
   "cell_type": "markdown",
   "id": "84864bbb",
   "metadata": {
    "papermill": {
     "duration": 0.010549,
     "end_time": "2024-02-16T08:59:08.162263",
     "exception": false,
     "start_time": "2024-02-16T08:59:08.151714",
     "status": "completed"
    },
    "tags": []
   },
   "source": [
    "# Digit Recognition with ANN on MNIST Dataset"
   ]
  },
  {
   "cell_type": "code",
   "execution_count": 1,
   "id": "d2f39b32",
   "metadata": {
    "_cell_guid": "b1076dfc-b9ad-4769-8c92-a6c4dae69d19",
    "_uuid": "8f2839f25d086af736a60e9eeb907d3b93b6e0e5",
    "execution": {
     "iopub.execute_input": "2024-02-16T08:59:08.185138Z",
     "iopub.status.busy": "2024-02-16T08:59:08.184353Z",
     "iopub.status.idle": "2024-02-16T08:59:27.025613Z",
     "shell.execute_reply": "2024-02-16T08:59:27.024340Z"
    },
    "papermill": {
     "duration": 18.856471,
     "end_time": "2024-02-16T08:59:27.028896",
     "exception": false,
     "start_time": "2024-02-16T08:59:08.172425",
     "status": "completed"
    },
    "tags": []
   },
   "outputs": [
    {
     "name": "stderr",
     "output_type": "stream",
     "text": [
      "2024-02-16 08:59:10.637380: E external/local_xla/xla/stream_executor/cuda/cuda_dnn.cc:9261] Unable to register cuDNN factory: Attempting to register factory for plugin cuDNN when one has already been registered\n",
      "2024-02-16 08:59:10.637520: E external/local_xla/xla/stream_executor/cuda/cuda_fft.cc:607] Unable to register cuFFT factory: Attempting to register factory for plugin cuFFT when one has already been registered\n",
      "2024-02-16 08:59:10.816440: E external/local_xla/xla/stream_executor/cuda/cuda_blas.cc:1515] Unable to register cuBLAS factory: Attempting to register factory for plugin cuBLAS when one has already been registered\n"
     ]
    }
   ],
   "source": [
    "import numpy as np\n",
    "import tensorflow as tf\n",
    "import pandas as pd\n",
    "from tensorflow import keras\n",
    "import matplotlib.pyplot as plt  # For data visualization\n",
    "from sklearn.model_selection import train_test_split  # For splitting data into training and testing sets\n",
    "from sklearn.metrics import accuracy_score, confusion_matrix, classification_report  # For model evaluation\n",
    "from tensorflow.keras.models import Sequential\n",
    "from tensorflow.keras.layers import Dense, Flatten"
   ]
  },
  {
   "cell_type": "code",
   "execution_count": 2,
   "id": "ffc4b855",
   "metadata": {
    "execution": {
     "iopub.execute_input": "2024-02-16T08:59:27.052311Z",
     "iopub.status.busy": "2024-02-16T08:59:27.051249Z",
     "iopub.status.idle": "2024-02-16T08:59:34.399220Z",
     "shell.execute_reply": "2024-02-16T08:59:34.398151Z"
    },
    "papermill": {
     "duration": 7.362919,
     "end_time": "2024-02-16T08:59:34.402475",
     "exception": false,
     "start_time": "2024-02-16T08:59:27.039556",
     "status": "completed"
    },
    "tags": []
   },
   "outputs": [],
   "source": [
    "train_df = pd.read_csv('/kaggle/input/digit-recognizer/train.csv')\n",
    "test_df = pd.read_csv('/kaggle/input/digit-recognizer/test.csv')"
   ]
  },
  {
   "cell_type": "code",
   "execution_count": 3,
   "id": "e5f91b49",
   "metadata": {
    "execution": {
     "iopub.execute_input": "2024-02-16T08:59:34.424722Z",
     "iopub.status.busy": "2024-02-16T08:59:34.424313Z",
     "iopub.status.idle": "2024-02-16T08:59:34.452126Z",
     "shell.execute_reply": "2024-02-16T08:59:34.450868Z"
    },
    "papermill": {
     "duration": 0.041727,
     "end_time": "2024-02-16T08:59:34.454668",
     "exception": false,
     "start_time": "2024-02-16T08:59:34.412941",
     "status": "completed"
    },
    "tags": []
   },
   "outputs": [
    {
     "data": {
      "text/html": [
       "<div>\n",
       "<style scoped>\n",
       "    .dataframe tbody tr th:only-of-type {\n",
       "        vertical-align: middle;\n",
       "    }\n",
       "\n",
       "    .dataframe tbody tr th {\n",
       "        vertical-align: top;\n",
       "    }\n",
       "\n",
       "    .dataframe thead th {\n",
       "        text-align: right;\n",
       "    }\n",
       "</style>\n",
       "<table border=\"1\" class=\"dataframe\">\n",
       "  <thead>\n",
       "    <tr style=\"text-align: right;\">\n",
       "      <th></th>\n",
       "      <th>label</th>\n",
       "      <th>pixel0</th>\n",
       "      <th>pixel1</th>\n",
       "      <th>pixel2</th>\n",
       "      <th>pixel3</th>\n",
       "      <th>pixel4</th>\n",
       "      <th>pixel5</th>\n",
       "      <th>pixel6</th>\n",
       "      <th>pixel7</th>\n",
       "      <th>pixel8</th>\n",
       "      <th>...</th>\n",
       "      <th>pixel774</th>\n",
       "      <th>pixel775</th>\n",
       "      <th>pixel776</th>\n",
       "      <th>pixel777</th>\n",
       "      <th>pixel778</th>\n",
       "      <th>pixel779</th>\n",
       "      <th>pixel780</th>\n",
       "      <th>pixel781</th>\n",
       "      <th>pixel782</th>\n",
       "      <th>pixel783</th>\n",
       "    </tr>\n",
       "  </thead>\n",
       "  <tbody>\n",
       "    <tr>\n",
       "      <th>0</th>\n",
       "      <td>1</td>\n",
       "      <td>0</td>\n",
       "      <td>0</td>\n",
       "      <td>0</td>\n",
       "      <td>0</td>\n",
       "      <td>0</td>\n",
       "      <td>0</td>\n",
       "      <td>0</td>\n",
       "      <td>0</td>\n",
       "      <td>0</td>\n",
       "      <td>...</td>\n",
       "      <td>0</td>\n",
       "      <td>0</td>\n",
       "      <td>0</td>\n",
       "      <td>0</td>\n",
       "      <td>0</td>\n",
       "      <td>0</td>\n",
       "      <td>0</td>\n",
       "      <td>0</td>\n",
       "      <td>0</td>\n",
       "      <td>0</td>\n",
       "    </tr>\n",
       "    <tr>\n",
       "      <th>1</th>\n",
       "      <td>0</td>\n",
       "      <td>0</td>\n",
       "      <td>0</td>\n",
       "      <td>0</td>\n",
       "      <td>0</td>\n",
       "      <td>0</td>\n",
       "      <td>0</td>\n",
       "      <td>0</td>\n",
       "      <td>0</td>\n",
       "      <td>0</td>\n",
       "      <td>...</td>\n",
       "      <td>0</td>\n",
       "      <td>0</td>\n",
       "      <td>0</td>\n",
       "      <td>0</td>\n",
       "      <td>0</td>\n",
       "      <td>0</td>\n",
       "      <td>0</td>\n",
       "      <td>0</td>\n",
       "      <td>0</td>\n",
       "      <td>0</td>\n",
       "    </tr>\n",
       "    <tr>\n",
       "      <th>2</th>\n",
       "      <td>1</td>\n",
       "      <td>0</td>\n",
       "      <td>0</td>\n",
       "      <td>0</td>\n",
       "      <td>0</td>\n",
       "      <td>0</td>\n",
       "      <td>0</td>\n",
       "      <td>0</td>\n",
       "      <td>0</td>\n",
       "      <td>0</td>\n",
       "      <td>...</td>\n",
       "      <td>0</td>\n",
       "      <td>0</td>\n",
       "      <td>0</td>\n",
       "      <td>0</td>\n",
       "      <td>0</td>\n",
       "      <td>0</td>\n",
       "      <td>0</td>\n",
       "      <td>0</td>\n",
       "      <td>0</td>\n",
       "      <td>0</td>\n",
       "    </tr>\n",
       "    <tr>\n",
       "      <th>3</th>\n",
       "      <td>4</td>\n",
       "      <td>0</td>\n",
       "      <td>0</td>\n",
       "      <td>0</td>\n",
       "      <td>0</td>\n",
       "      <td>0</td>\n",
       "      <td>0</td>\n",
       "      <td>0</td>\n",
       "      <td>0</td>\n",
       "      <td>0</td>\n",
       "      <td>...</td>\n",
       "      <td>0</td>\n",
       "      <td>0</td>\n",
       "      <td>0</td>\n",
       "      <td>0</td>\n",
       "      <td>0</td>\n",
       "      <td>0</td>\n",
       "      <td>0</td>\n",
       "      <td>0</td>\n",
       "      <td>0</td>\n",
       "      <td>0</td>\n",
       "    </tr>\n",
       "    <tr>\n",
       "      <th>4</th>\n",
       "      <td>0</td>\n",
       "      <td>0</td>\n",
       "      <td>0</td>\n",
       "      <td>0</td>\n",
       "      <td>0</td>\n",
       "      <td>0</td>\n",
       "      <td>0</td>\n",
       "      <td>0</td>\n",
       "      <td>0</td>\n",
       "      <td>0</td>\n",
       "      <td>...</td>\n",
       "      <td>0</td>\n",
       "      <td>0</td>\n",
       "      <td>0</td>\n",
       "      <td>0</td>\n",
       "      <td>0</td>\n",
       "      <td>0</td>\n",
       "      <td>0</td>\n",
       "      <td>0</td>\n",
       "      <td>0</td>\n",
       "      <td>0</td>\n",
       "    </tr>\n",
       "  </tbody>\n",
       "</table>\n",
       "<p>5 rows × 785 columns</p>\n",
       "</div>"
      ],
      "text/plain": [
       "   label  pixel0  pixel1  pixel2  pixel3  pixel4  pixel5  pixel6  pixel7  \\\n",
       "0      1       0       0       0       0       0       0       0       0   \n",
       "1      0       0       0       0       0       0       0       0       0   \n",
       "2      1       0       0       0       0       0       0       0       0   \n",
       "3      4       0       0       0       0       0       0       0       0   \n",
       "4      0       0       0       0       0       0       0       0       0   \n",
       "\n",
       "   pixel8  ...  pixel774  pixel775  pixel776  pixel777  pixel778  pixel779  \\\n",
       "0       0  ...         0         0         0         0         0         0   \n",
       "1       0  ...         0         0         0         0         0         0   \n",
       "2       0  ...         0         0         0         0         0         0   \n",
       "3       0  ...         0         0         0         0         0         0   \n",
       "4       0  ...         0         0         0         0         0         0   \n",
       "\n",
       "   pixel780  pixel781  pixel782  pixel783  \n",
       "0         0         0         0         0  \n",
       "1         0         0         0         0  \n",
       "2         0         0         0         0  \n",
       "3         0         0         0         0  \n",
       "4         0         0         0         0  \n",
       "\n",
       "[5 rows x 785 columns]"
      ]
     },
     "execution_count": 3,
     "metadata": {},
     "output_type": "execute_result"
    }
   ],
   "source": [
    "train_df.head()"
   ]
  },
  {
   "cell_type": "markdown",
   "id": "ca15fdfb",
   "metadata": {
    "papermill": {
     "duration": 0.010193,
     "end_time": "2024-02-16T08:59:34.475424",
     "exception": false,
     "start_time": "2024-02-16T08:59:34.465231",
     "status": "completed"
    },
    "tags": []
   },
   "source": [
    "## Train Test Split"
   ]
  },
  {
   "cell_type": "code",
   "execution_count": 4,
   "id": "2442f8dc",
   "metadata": {
    "execution": {
     "iopub.execute_input": "2024-02-16T08:59:34.499244Z",
     "iopub.status.busy": "2024-02-16T08:59:34.498543Z",
     "iopub.status.idle": "2024-02-16T08:59:34.900877Z",
     "shell.execute_reply": "2024-02-16T08:59:34.899585Z"
    },
    "papermill": {
     "duration": 0.417918,
     "end_time": "2024-02-16T08:59:34.903920",
     "exception": false,
     "start_time": "2024-02-16T08:59:34.486002",
     "status": "completed"
    },
    "tags": []
   },
   "outputs": [],
   "source": [
    "X = train_df.drop('label', axis=1)\n",
    "y = train_df['label'].values\n",
    "\n",
    "X_train, X_test, y_train, y_test = train_test_split(X, y, test_size=0.2, random_state=42)"
   ]
  },
  {
   "cell_type": "code",
   "execution_count": 5,
   "id": "163fbe28",
   "metadata": {
    "execution": {
     "iopub.execute_input": "2024-02-16T08:59:34.928011Z",
     "iopub.status.busy": "2024-02-16T08:59:34.927557Z",
     "iopub.status.idle": "2024-02-16T08:59:34.933481Z",
     "shell.execute_reply": "2024-02-16T08:59:34.932311Z"
    },
    "papermill": {
     "duration": 0.020444,
     "end_time": "2024-02-16T08:59:34.935936",
     "exception": false,
     "start_time": "2024-02-16T08:59:34.915492",
     "status": "completed"
    },
    "tags": []
   },
   "outputs": [],
   "source": [
    "X_train = np.reshape(X_train, (X_train.shape[0], 28, 28))\n",
    "X_test = np.reshape(X_test, (X_test.shape[0], 28, 28))"
   ]
  },
  {
   "cell_type": "code",
   "execution_count": 6,
   "id": "6e4bef61",
   "metadata": {
    "execution": {
     "iopub.execute_input": "2024-02-16T08:59:34.959876Z",
     "iopub.status.busy": "2024-02-16T08:59:34.959467Z",
     "iopub.status.idle": "2024-02-16T08:59:35.220270Z",
     "shell.execute_reply": "2024-02-16T08:59:35.218984Z"
    },
    "papermill": {
     "duration": 0.275326,
     "end_time": "2024-02-16T08:59:35.222881",
     "exception": false,
     "start_time": "2024-02-16T08:59:34.947555",
     "status": "completed"
    },
    "tags": []
   },
   "outputs": [
    {
     "data": {
      "text/plain": [
       "<matplotlib.image.AxesImage at 0x78f742941000>"
      ]
     },
     "execution_count": 6,
     "metadata": {},
     "output_type": "execute_result"
    },
    {
     "data": {
      "image/png": "[encoded data removed]",
      "text/plain": [
       "<Figure size 640x480 with 1 Axes>"
      ]
     },
     "metadata": {},
     "output_type": "display_data"
    }
   ],
   "source": [
    "plt.imshow(X_train[0], cmap = plt.cm.binary)"
   ]
  },
  {
   "cell_type": "code",
   "execution_count": 7,
   "id": "46ea5b63",
   "metadata": {
    "execution": {
     "iopub.execute_input": "2024-02-16T08:59:35.247343Z",
     "iopub.status.busy": "2024-02-16T08:59:35.246885Z",
     "iopub.status.idle": "2024-02-16T08:59:35.254593Z",
     "shell.execute_reply": "2024-02-16T08:59:35.253283Z"
    },
    "papermill": {
     "duration": 0.023022,
     "end_time": "2024-02-16T08:59:35.257115",
     "exception": false,
     "start_time": "2024-02-16T08:59:35.234093",
     "status": "completed"
    },
    "tags": []
   },
   "outputs": [
    {
     "data": {
      "text/plain": [
       "6"
      ]
     },
     "execution_count": 7,
     "metadata": {},
     "output_type": "execute_result"
    }
   ],
   "source": [
    "y_train[0]"
   ]
  },
  {
   "cell_type": "markdown",
   "id": "ba15c7d3",
   "metadata": {
    "papermill": {
     "duration": 0.01074,
     "end_time": "2024-02-16T08:59:35.278918",
     "exception": false,
     "start_time": "2024-02-16T08:59:35.268178",
     "status": "completed"
    },
    "tags": []
   },
   "source": [
    "## Normalizing the Data"
   ]
  },
  {
   "cell_type": "code",
   "execution_count": 8,
   "id": "36d470e4",
   "metadata": {
    "execution": {
     "iopub.execute_input": "2024-02-16T08:59:35.302841Z",
     "iopub.status.busy": "2024-02-16T08:59:35.302364Z",
     "iopub.status.idle": "2024-02-16T08:59:35.731848Z",
     "shell.execute_reply": "2024-02-16T08:59:35.730308Z"
    },
    "papermill": {
     "duration": 0.445014,
     "end_time": "2024-02-16T08:59:35.734961",
     "exception": false,
     "start_time": "2024-02-16T08:59:35.289947",
     "status": "completed"
    },
    "tags": []
   },
   "outputs": [],
   "source": [
    "X_train = tf.keras.utils.normalize(X_train, axis=1)\n",
    "X_test = tf.keras.utils.normalize(X_test, axis=1)"
   ]
  },
  {
   "cell_type": "code",
   "execution_count": 9,
   "id": "85c2daae",
   "metadata": {
    "execution": {
     "iopub.execute_input": "2024-02-16T08:59:35.759562Z",
     "iopub.status.busy": "2024-02-16T08:59:35.759120Z",
     "iopub.status.idle": "2024-02-16T08:59:35.977271Z",
     "shell.execute_reply": "2024-02-16T08:59:35.975941Z"
    },
    "papermill": {
     "duration": 0.233366,
     "end_time": "2024-02-16T08:59:35.979856",
     "exception": false,
     "start_time": "2024-02-16T08:59:35.746490",
     "status": "completed"
    },
    "tags": []
   },
   "outputs": [
    {
     "data": {
      "text/plain": [
       "<matplotlib.image.AxesImage at 0x78f7418ca2f0>"
      ]
     },
     "execution_count": 9,
     "metadata": {},
     "output_type": "execute_result"
    },
    {
     "data": {
      "image/png": "[encoded data removed]",
      "text/plain": [
       "<Figure size 640x480 with 1 Axes>"
      ]
     },
     "metadata": {},
     "output_type": "display_data"
    }
   ],
   "source": [
    "plt.imshow(X_train[0], cmap = plt.cm.binary)"
   ]
  },
  {
   "cell_type": "markdown",
   "id": "26ac9801",
   "metadata": {
    "papermill": {
     "duration": 0.012183,
     "end_time": "2024-02-16T08:59:36.003723",
     "exception": false,
     "start_time": "2024-02-16T08:59:35.991540",
     "status": "completed"
    },
    "tags": []
   },
   "source": [
    "## Building an ANN"
   ]
  },
  {
   "cell_type": "code",
   "execution_count": 10,
   "id": "7353f139",
   "metadata": {
    "execution": {
     "iopub.execute_input": "2024-02-16T08:59:36.028945Z",
     "iopub.status.busy": "2024-02-16T08:59:36.028548Z",
     "iopub.status.idle": "2024-02-16T08:59:36.399564Z",
     "shell.execute_reply": "2024-02-16T08:59:36.398374Z"
    },
    "papermill": {
     "duration": 0.386888,
     "end_time": "2024-02-16T08:59:36.402413",
     "exception": false,
     "start_time": "2024-02-16T08:59:36.015525",
     "status": "completed"
    },
    "tags": []
   },
   "outputs": [],
   "source": [
    "model = Sequential()\n",
    "\n",
    "model.add(Flatten(input_shape=(28,28)))\n",
    "model.add(Dense(128, activation='relu'))\n",
    "model.add(Dense(32, activation='relu'))\n",
    "model.add(Dense(10, activation='softmax'))"
   ]
  },
  {
   "cell_type": "code",
   "execution_count": 11,
   "id": "8a947d9f",
   "metadata": {
    "execution": {
     "iopub.execute_input": "2024-02-16T08:59:36.427989Z",
     "iopub.status.busy": "2024-02-16T08:59:36.427514Z",
     "iopub.status.idle": "2024-02-16T08:59:36.453822Z",
     "shell.execute_reply": "2024-02-16T08:59:36.452380Z"
    },
    "papermill": {
     "duration": 0.043213,
     "end_time": "2024-02-16T08:59:36.457640",
     "exception": false,
     "start_time": "2024-02-16T08:59:36.414427",
     "status": "completed"
    },
    "tags": []
   },
   "outputs": [
    {
     "name": "stdout",
     "output_type": "stream",
     "text": [
      "Model: \"sequential\"\n",
      "_________________________________________________________________\n",
      " Layer (type)                Output Shape              Param #   \n",
      "=================================================================\n",
      " flatten (Flatten)           (None, 784)               0         \n",
      "                                                                 \n",
      " dense (Dense)               (None, 128)               100480    \n",
      "                                                                 \n",
      " dense_1 (Dense)             (None, 32)                4128      \n",
      "                                                                 \n",
      " dense_2 (Dense)             (None, 10)                330       \n",
      "                                                                 \n",
      "=================================================================\n",
      "Total params: 104938 (409.91 KB)\n",
      "Trainable params: 104938 (409.91 KB)\n",
      "Non-trainable params: 0 (0.00 Byte)\n",
      "_________________________________________________________________\n"
     ]
    }
   ],
   "source": [
    "model.summary()"
   ]
  },
  {
   "cell_type": "code",
   "execution_count": 12,
   "id": "6e784a76",
   "metadata": {
    "execution": {
     "iopub.execute_input": "2024-02-16T08:59:36.485462Z",
     "iopub.status.busy": "2024-02-16T08:59:36.485041Z",
     "iopub.status.idle": "2024-02-16T08:59:36.508266Z",
     "shell.execute_reply": "2024-02-16T08:59:36.507022Z"
    },
    "papermill": {
     "duration": 0.040377,
     "end_time": "2024-02-16T08:59:36.510942",
     "exception": false,
     "start_time": "2024-02-16T08:59:36.470565",
     "status": "completed"
    },
    "tags": []
   },
   "outputs": [],
   "source": [
    "model.compile(loss = 'sparse_categorical_crossentropy', optimizer = 'Adam', metrics=['accuracy'])"
   ]
  },
  {
   "cell_type": "code",
   "execution_count": 13,
   "id": "6b1cf311",
   "metadata": {
    "execution": {
     "iopub.execute_input": "2024-02-16T08:59:36.539852Z",
     "iopub.status.busy": "2024-02-16T08:59:36.539421Z",
     "iopub.status.idle": "2024-02-16T09:00:50.101676Z",
     "shell.execute_reply": "2024-02-16T09:00:50.100415Z"
    },
    "papermill": {
     "duration": 73.57962,
     "end_time": "2024-02-16T09:00:50.104405",
     "exception": false,
     "start_time": "2024-02-16T08:59:36.524785",
     "status": "completed"
    },
    "tags": []
   },
   "outputs": [
    {
     "name": "stdout",
     "output_type": "stream",
     "text": [
      "Epoch 1/20\n",
      "840/840 [==============================] - 5s 4ms/step - loss: 0.4288 - accuracy: 0.8754 - val_loss: 0.2346 - val_accuracy: 0.9314\n",
      "Epoch 2/20\n",
      "840/840 [==============================] - 4s 4ms/step - loss: 0.1826 - accuracy: 0.9455 - val_loss: 0.1762 - val_accuracy: 0.9494\n",
      "Epoch 3/20\n",
      "840/840 [==============================] - 4s 4ms/step - loss: 0.1288 - accuracy: 0.9609 - val_loss: 0.1493 - val_accuracy: 0.9563\n",
      "Epoch 4/20\n",
      "840/840 [==============================] - 4s 4ms/step - loss: 0.0945 - accuracy: 0.9715 - val_loss: 0.1445 - val_accuracy: 0.9580\n",
      "Epoch 5/20\n",
      "840/840 [==============================] - 3s 4ms/step - loss: 0.0723 - accuracy: 0.9775 - val_loss: 0.1368 - val_accuracy: 0.9637\n",
      "Epoch 6/20\n",
      "840/840 [==============================] - 4s 4ms/step - loss: 0.0559 - accuracy: 0.9825 - val_loss: 0.1356 - val_accuracy: 0.9634\n",
      "Epoch 7/20\n",
      "840/840 [==============================] - 4s 5ms/step - loss: 0.0428 - accuracy: 0.9865 - val_loss: 0.1297 - val_accuracy: 0.9659\n",
      "Epoch 8/20\n",
      "840/840 [==============================] - 4s 4ms/step - loss: 0.0314 - accuracy: 0.9910 - val_loss: 0.1476 - val_accuracy: 0.9603\n",
      "Epoch 9/20\n",
      "840/840 [==============================] - 4s 4ms/step - loss: 0.0270 - accuracy: 0.9914 - val_loss: 0.1507 - val_accuracy: 0.9629\n",
      "Epoch 10/20\n",
      "840/840 [==============================] - 3s 4ms/step - loss: 0.0202 - accuracy: 0.9941 - val_loss: 0.1478 - val_accuracy: 0.9665\n",
      "Epoch 11/20\n",
      "840/840 [==============================] - 4s 4ms/step - loss: 0.0149 - accuracy: 0.9958 - val_loss: 0.1503 - val_accuracy: 0.9665\n",
      "Epoch 12/20\n",
      "840/840 [==============================] - 3s 4ms/step - loss: 0.0138 - accuracy: 0.9960 - val_loss: 0.1490 - val_accuracy: 0.9676\n",
      "Epoch 13/20\n",
      "840/840 [==============================] - 4s 4ms/step - loss: 0.0117 - accuracy: 0.9965 - val_loss: 0.1754 - val_accuracy: 0.9629\n",
      "Epoch 14/20\n",
      "840/840 [==============================] - 4s 4ms/step - loss: 0.0103 - accuracy: 0.9971 - val_loss: 0.1670 - val_accuracy: 0.9667\n",
      "Epoch 15/20\n",
      "840/840 [==============================] - 3s 4ms/step - loss: 0.0078 - accuracy: 0.9978 - val_loss: 0.1951 - val_accuracy: 0.9638\n",
      "Epoch 16/20\n",
      "840/840 [==============================] - 4s 4ms/step - loss: 0.0088 - accuracy: 0.9973 - val_loss: 0.1937 - val_accuracy: 0.9622\n",
      "Epoch 17/20\n",
      "840/840 [==============================] - 4s 4ms/step - loss: 0.0076 - accuracy: 0.9981 - val_loss: 0.1908 - val_accuracy: 0.9644\n",
      "Epoch 18/20\n",
      "840/840 [==============================] - 4s 4ms/step - loss: 0.0048 - accuracy: 0.9989 - val_loss: 0.2142 - val_accuracy: 0.9618\n",
      "Epoch 19/20\n",
      "840/840 [==============================] - 4s 4ms/step - loss: 0.0073 - accuracy: 0.9978 - val_loss: 0.2121 - val_accuracy: 0.9637\n",
      "Epoch 20/20\n",
      "840/840 [==============================] - 3s 4ms/step - loss: 0.0093 - accuracy: 0.9972 - val_loss: 0.1935 - val_accuracy: 0.9695\n"
     ]
    }
   ],
   "source": [
    "history = model.fit(X_train, y_train, epochs=20, validation_split=0.2)"
   ]
  },
  {
   "cell_type": "code",
   "execution_count": 14,
   "id": "843b791a",
   "metadata": {
    "execution": {
     "iopub.execute_input": "2024-02-16T09:00:50.369813Z",
     "iopub.status.busy": "2024-02-16T09:00:50.369357Z",
     "iopub.status.idle": "2024-02-16T09:00:51.173267Z",
     "shell.execute_reply": "2024-02-16T09:00:51.172172Z"
    },
    "papermill": {
     "duration": 0.940403,
     "end_time": "2024-02-16T09:00:51.176001",
     "exception": false,
     "start_time": "2024-02-16T09:00:50.235598",
     "status": "completed"
    },
    "tags": []
   },
   "outputs": [
    {
     "name": "stdout",
     "output_type": "stream",
     "text": [
      "263/263 [==============================] - 1s 2ms/step\n"
     ]
    }
   ],
   "source": [
    "y_prob = model.predict(X_test)"
   ]
  },
  {
   "cell_type": "code",
   "execution_count": 15,
   "id": "b18d51ec",
   "metadata": {
    "execution": {
     "iopub.execute_input": "2024-02-16T09:00:51.512813Z",
     "iopub.status.busy": "2024-02-16T09:00:51.511615Z",
     "iopub.status.idle": "2024-02-16T09:00:51.517451Z",
     "shell.execute_reply": "2024-02-16T09:00:51.516312Z"
    },
    "papermill": {
     "duration": 0.14158,
     "end_time": "2024-02-16T09:00:51.519956",
     "exception": false,
     "start_time": "2024-02-16T09:00:51.378376",
     "status": "completed"
    },
    "tags": []
   },
   "outputs": [],
   "source": [
    "y_pred = y_prob.argmax(axis=1)"
   ]
  },
  {
   "cell_type": "code",
   "execution_count": 16,
   "id": "c01b4042",
   "metadata": {
    "execution": {
     "iopub.execute_input": "2024-02-16T09:00:51.785704Z",
     "iopub.status.busy": "2024-02-16T09:00:51.785305Z",
     "iopub.status.idle": "2024-02-16T09:00:51.795205Z",
     "shell.execute_reply": "2024-02-16T09:00:51.794052Z"
    },
    "papermill": {
     "duration": 0.145155,
     "end_time": "2024-02-16T09:00:51.797711",
     "exception": false,
     "start_time": "2024-02-16T09:00:51.652556",
     "status": "completed"
    },
    "tags": []
   },
   "outputs": [
    {
     "data": {
      "text/plain": [
       "0.9688095238095238"
      ]
     },
     "execution_count": 16,
     "metadata": {},
     "output_type": "execute_result"
    }
   ],
   "source": [
    "accuracy_score(y_test, y_pred)"
   ]
  },
  {
   "cell_type": "markdown",
   "id": "fb34bd39",
   "metadata": {
    "papermill": {
     "duration": 0.136268,
     "end_time": "2024-02-16T09:00:52.067475",
     "exception": false,
     "start_time": "2024-02-16T09:00:51.931207",
     "status": "completed"
    },
    "tags": []
   },
   "source": [
    "Our model achieved a validation accuracy of around 0.97, showing strong performance in recognizing digits from the MNIST dataset."
   ]
  },
  {
   "cell_type": "code",
   "execution_count": 17,
   "id": "0cb23330",
   "metadata": {
    "execution": {
     "iopub.execute_input": "2024-02-16T09:00:52.336186Z",
     "iopub.status.busy": "2024-02-16T09:00:52.335777Z",
     "iopub.status.idle": "2024-02-16T09:00:52.605984Z",
     "shell.execute_reply": "2024-02-16T09:00:52.604653Z"
    },
    "papermill": {
     "duration": 0.406535,
     "end_time": "2024-02-16T09:00:52.608667",
     "exception": false,
     "start_time": "2024-02-16T09:00:52.202132",
     "status": "completed"
    },
    "tags": []
   },
   "outputs": [
    {
     "data": {
      "text/plain": [
       "<matplotlib.legend.Legend at 0x78f741980760>"
      ]
     },
     "execution_count": 17,
     "metadata": {},
     "output_type": "execute_result"
    },
    {
     "data": {
      "image/png": "[encoded data removed]",
      "text/plain": [
       "<Figure size 640x480 with 1 Axes>"
      ]
     },
     "metadata": {},
     "output_type": "display_data"
    }
   ],
   "source": [
    "plt.plot(history.history['loss'])\n",
    "plt.plot(history.history['val_loss'])\n",
    "plt.legend(['Loss', 'Validation Loss'])"
   ]
  },
  {
   "cell_type": "markdown",
   "id": "f78a8129",
   "metadata": {
    "papermill": {
     "duration": 0.133359,
     "end_time": "2024-02-16T09:00:52.877590",
     "exception": false,
     "start_time": "2024-02-16T09:00:52.744231",
     "status": "completed"
    },
    "tags": []
   },
   "source": [
    "The loss is slightly smaller than the validation loss, it indicates that the model is performing slightly better on the training data compared to the unseen validation data. "
   ]
  },
  {
   "cell_type": "code",
   "execution_count": 18,
   "id": "3786794a",
   "metadata": {
    "execution": {
     "iopub.execute_input": "2024-02-16T09:00:53.152799Z",
     "iopub.status.busy": "2024-02-16T09:00:53.152363Z",
     "iopub.status.idle": "2024-02-16T09:00:53.470762Z",
     "shell.execute_reply": "2024-02-16T09:00:53.469313Z"
    },
    "papermill": {
     "duration": 0.458713,
     "end_time": "2024-02-16T09:00:53.473742",
     "exception": false,
     "start_time": "2024-02-16T09:00:53.015029",
     "status": "completed"
    },
    "tags": []
   },
   "outputs": [
    {
     "data": {
      "text/plain": [
       "<matplotlib.legend.Legend at 0x78f741a0a860>"
      ]
     },
     "execution_count": 18,
     "metadata": {},
     "output_type": "execute_result"
    },
    {
     "data": {
      "image/png": "[encoded data removed]",
      "text/plain": [
       "<Figure size 640x480 with 1 Axes>"
      ]
     },
     "metadata": {},
     "output_type": "display_data"
    }
   ],
   "source": [
    "plt.plot(history.history['accuracy'])\n",
    "plt.plot(history.history['val_accuracy'])\n",
    "plt.legend(['Accuracy', 'Validation Accuracy'])"
   ]
  },
  {
   "cell_type": "markdown",
   "id": "6a22250d",
   "metadata": {
    "papermill": {
     "duration": 0.134038,
     "end_time": "2024-02-16T09:00:53.742349",
     "exception": false,
     "start_time": "2024-02-16T09:00:53.608311",
     "status": "completed"
    },
    "tags": []
   },
   "source": [
    "The training accuracy is slightly larger than the validation accuracy, it indicates that the model is performing slightly better on the training data compared to the unseen validation data. "
   ]
  },
  {
   "cell_type": "code",
   "execution_count": 19,
   "id": "ec62d8b5",
   "metadata": {
    "execution": {
     "iopub.execute_input": "2024-02-16T09:00:54.016854Z",
     "iopub.status.busy": "2024-02-16T09:00:54.016425Z",
     "iopub.status.idle": "2024-02-16T09:00:54.264886Z",
     "shell.execute_reply": "2024-02-16T09:00:54.263414Z"
    },
    "papermill": {
     "duration": 0.38859,
     "end_time": "2024-02-16T09:00:54.268576",
     "exception": false,
     "start_time": "2024-02-16T09:00:53.879986",
     "status": "completed"
    },
    "tags": []
   },
   "outputs": [
    {
     "data": {
      "text/plain": [
       "<matplotlib.image.AxesImage at 0x78f740e654b0>"
      ]
     },
     "execution_count": 19,
     "metadata": {},
     "output_type": "execute_result"
    },
    {
     "data": {
      "image/png": "[encoded data removed]",
      "text/plain": [
       "<Figure size 640x480 with 1 Axes>"
      ]
     },
     "metadata": {},
     "output_type": "display_data"
    }
   ],
   "source": [
    "plt.imshow(X_test[0], cmap = plt.cm.binary)"
   ]
  },
  {
   "cell_type": "code",
   "execution_count": 20,
   "id": "e370005f",
   "metadata": {
    "execution": {
     "iopub.execute_input": "2024-02-16T09:00:54.577382Z",
     "iopub.status.busy": "2024-02-16T09:00:54.576959Z",
     "iopub.status.idle": "2024-02-16T09:00:54.673805Z",
     "shell.execute_reply": "2024-02-16T09:00:54.672793Z"
    },
    "papermill": {
     "duration": 0.254523,
     "end_time": "2024-02-16T09:00:54.676627",
     "exception": false,
     "start_time": "2024-02-16T09:00:54.422104",
     "status": "completed"
    },
    "tags": []
   },
   "outputs": [
    {
     "name": "stdout",
     "output_type": "stream",
     "text": [
      "1/1 [==============================] - 0s 27ms/step\n"
     ]
    },
    {
     "data": {
      "text/plain": [
       "8"
      ]
     },
     "execution_count": 20,
     "metadata": {},
     "output_type": "execute_result"
    }
   ],
   "source": [
    "model.predict(X_test[0].reshape((1,28,28))).argmax()"
   ]
  },
  {
   "cell_type": "code",
   "execution_count": 21,
   "id": "fa180178",
   "metadata": {
    "execution": {
     "iopub.execute_input": "2024-02-16T09:00:54.957216Z",
     "iopub.status.busy": "2024-02-16T09:00:54.956736Z",
     "iopub.status.idle": "2024-02-16T09:00:54.963353Z",
     "shell.execute_reply": "2024-02-16T09:00:54.962023Z"
    },
    "papermill": {
     "duration": 0.148875,
     "end_time": "2024-02-16T09:00:54.965935",
     "exception": false,
     "start_time": "2024-02-16T09:00:54.817060",
     "status": "completed"
    },
    "tags": []
   },
   "outputs": [],
   "source": [
    "test_df = np.reshape(test_df, (test_df.shape[0],28,28))"
   ]
  },
  {
   "cell_type": "code",
   "execution_count": 22,
   "id": "bc41486a",
   "metadata": {
    "execution": {
     "iopub.execute_input": "2024-02-16T09:00:55.246017Z",
     "iopub.status.busy": "2024-02-16T09:00:55.245476Z",
     "iopub.status.idle": "2024-02-16T09:00:57.599582Z",
     "shell.execute_reply": "2024-02-16T09:00:57.598394Z"
    },
    "papermill": {
     "duration": 2.497208,
     "end_time": "2024-02-16T09:00:57.602445",
     "exception": false,
     "start_time": "2024-02-16T09:00:55.105237",
     "status": "completed"
    },
    "tags": []
   },
   "outputs": [
    {
     "name": "stdout",
     "output_type": "stream",
     "text": [
      "875/875 [==============================] - 2s 2ms/step\n"
     ]
    }
   ],
   "source": [
    "test_pred = model.predict(test_df).argmax(axis=1)"
   ]
  },
  {
   "cell_type": "code",
   "execution_count": 23,
   "id": "9ea05e91",
   "metadata": {
    "execution": {
     "iopub.execute_input": "2024-02-16T09:00:57.881656Z",
     "iopub.status.busy": "2024-02-16T09:00:57.880616Z",
     "iopub.status.idle": "2024-02-16T09:00:57.886704Z",
     "shell.execute_reply": "2024-02-16T09:00:57.885817Z"
    },
    "papermill": {
     "duration": 0.148243,
     "end_time": "2024-02-16T09:00:57.888896",
     "exception": false,
     "start_time": "2024-02-16T09:00:57.740653",
     "status": "completed"
    },
    "tags": []
   },
   "outputs": [],
   "source": [
    "submission_df = pd.DataFrame(\n",
    "{'ImageId': np.arange(1, len(test_df)+1),\n",
    "    'Label': test_pred}\n",
    ")"
   ]
  },
  {
   "cell_type": "code",
   "execution_count": 24,
   "id": "bd286a1b",
   "metadata": {
    "execution": {
     "iopub.execute_input": "2024-02-16T09:00:58.168824Z",
     "iopub.status.busy": "2024-02-16T09:00:58.167399Z",
     "iopub.status.idle": "2024-02-16T09:00:58.179226Z",
     "shell.execute_reply": "2024-02-16T09:00:58.178069Z"
    },
    "papermill": {
     "duration": 0.15432,
     "end_time": "2024-02-16T09:00:58.181913",
     "exception": false,
     "start_time": "2024-02-16T09:00:58.027593",
     "status": "completed"
    },
    "tags": []
   },
   "outputs": [
    {
     "data": {
      "text/html": [
       "<div>\n",
       "<style scoped>\n",
       "    .dataframe tbody tr th:only-of-type {\n",
       "        vertical-align: middle;\n",
       "    }\n",
       "\n",
       "    .dataframe tbody tr th {\n",
       "        vertical-align: top;\n",
       "    }\n",
       "\n",
       "    .dataframe thead th {\n",
       "        text-align: right;\n",
       "    }\n",
       "</style>\n",
       "<table border=\"1\" class=\"dataframe\">\n",
       "  <thead>\n",
       "    <tr style=\"text-align: right;\">\n",
       "      <th></th>\n",
       "      <th>ImageId</th>\n",
       "      <th>Label</th>\n",
       "    </tr>\n",
       "  </thead>\n",
       "  <tbody>\n",
       "    <tr>\n",
       "      <th>0</th>\n",
       "      <td>1</td>\n",
       "      <td>2</td>\n",
       "    </tr>\n",
       "    <tr>\n",
       "      <th>1</th>\n",
       "      <td>2</td>\n",
       "      <td>0</td>\n",
       "    </tr>\n",
       "    <tr>\n",
       "      <th>2</th>\n",
       "      <td>3</td>\n",
       "      <td>9</td>\n",
       "    </tr>\n",
       "    <tr>\n",
       "      <th>3</th>\n",
       "      <td>4</td>\n",
       "      <td>9</td>\n",
       "    </tr>\n",
       "    <tr>\n",
       "      <th>4</th>\n",
       "      <td>5</td>\n",
       "      <td>3</td>\n",
       "    </tr>\n",
       "    <tr>\n",
       "      <th>...</th>\n",
       "      <td>...</td>\n",
       "      <td>...</td>\n",
       "    </tr>\n",
       "    <tr>\n",
       "      <th>27995</th>\n",
       "      <td>27996</td>\n",
       "      <td>9</td>\n",
       "    </tr>\n",
       "    <tr>\n",
       "      <th>27996</th>\n",
       "      <td>27997</td>\n",
       "      <td>7</td>\n",
       "    </tr>\n",
       "    <tr>\n",
       "      <th>27997</th>\n",
       "      <td>27998</td>\n",
       "      <td>3</td>\n",
       "    </tr>\n",
       "    <tr>\n",
       "      <th>27998</th>\n",
       "      <td>27999</td>\n",
       "      <td>9</td>\n",
       "    </tr>\n",
       "    <tr>\n",
       "      <th>27999</th>\n",
       "      <td>28000</td>\n",
       "      <td>2</td>\n",
       "    </tr>\n",
       "  </tbody>\n",
       "</table>\n",
       "<p>28000 rows × 2 columns</p>\n",
       "</div>"
      ],
      "text/plain": [
       "       ImageId  Label\n",
       "0            1      2\n",
       "1            2      0\n",
       "2            3      9\n",
       "3            4      9\n",
       "4            5      3\n",
       "...        ...    ...\n",
       "27995    27996      9\n",
       "27996    27997      7\n",
       "27997    27998      3\n",
       "27998    27999      9\n",
       "27999    28000      2\n",
       "\n",
       "[28000 rows x 2 columns]"
      ]
     },
     "execution_count": 24,
     "metadata": {},
     "output_type": "execute_result"
    }
   ],
   "source": [
    "submission_df"
   ]
  },
  {
   "cell_type": "code",
   "execution_count": 25,
   "id": "81ed7b06",
   "metadata": {
    "execution": {
     "iopub.execute_input": "2024-02-16T09:00:58.460586Z",
     "iopub.status.busy": "2024-02-16T09:00:58.459446Z",
     "iopub.status.idle": "2024-02-16T09:00:58.505831Z",
     "shell.execute_reply": "2024-02-16T09:00:58.504492Z"
    },
    "papermill": {
     "duration": 0.188364,
     "end_time": "2024-02-16T09:00:58.508773",
     "exception": false,
     "start_time": "2024-02-16T09:00:58.320409",
     "status": "completed"
    },
    "tags": []
   },
   "outputs": [],
   "source": [
    "submission_df.to_csv('submission.csv', index=False)"
   ]
  }
 ],
 "metadata": {
  "kaggle": {
   "accelerator": "none",
   "dataSources": [
    {
     "databundleVersionId": 861823,
     "sourceId": 3004,
     "sourceType": "competition"
    }
   ],
   "dockerImageVersionId": 30646,
   "isGpuEnabled": false,
   "isInternetEnabled": true,
   "language": "python",
   "sourceType": "notebook"
  },
  "kernelspec": {
   "display_name": "Python 3",
   "language": "python",
   "name": "python3"
  },
  "language_info": {
   "codemirror_mode": {
    "name": "ipython",
    "version": 3
   },
   "file_extension": ".py",
   "mimetype": "text/x-python",
   "name": "python",
   "nbconvert_exporter": "python",
   "pygments_lexer": "ipython3",
   "version": "3.10.13"
  },
  "papermill": {
   "default_parameters": {},
   "duration": 116.309932,
   "end_time": "2024-02-16T09:01:01.241208",
   "environment_variables": {},
   "exception": null,
   "input_path": "__notebook__.ipynb",
   "output_path": "__notebook__.ipynb",
   "parameters": {},
   "start_time": "2024-02-16T08:59:04.931276",
   "version": "2.5.0"
  }
 },
 "nbformat": 4,
 "nbformat_minor": 5
}
